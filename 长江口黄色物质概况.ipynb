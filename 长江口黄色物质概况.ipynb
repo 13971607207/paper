{
 "cells": [
  {
   "cell_type": "markdown",
   "metadata": {},
   "source": [
    "长江口表层CDOM吸收系数以440nm波段的吸收系数表示，a（440）的变化范围在1.152~8.751m$^{-1}$，平均为4.9282m$^{-1}$，从口外向口内逐渐增加，从季节分布上来看，夏季CDOM吸收系数较低，而冬季吸收系数较高，使用指数模式拟合CDOM吸收特性，光谱斜率的范围为0.0034~0.014nm$^{-1}$之间，平均值为0.0168nm\\\\(^{-1}\\\\),与CDOM吸收系数的季节分布相反，十二月的光谱斜率最低，而三、四、六月的光谱斜率较高*朱伟健*，长江口的CDOM主要来源于上游径流*孙德星*，不同季节的空间分布特征也不相同，一月和四月从口内到口外CDOM在412nm处的吸收系数逐渐上升，而在二月和十二月正好相反，三月、六月和七月CDOM在412nm处的吸收系数，从徐六泾至口门附近有上升趋势，而从口向外又有下降趋势。最大浑浊带由于底层有机溶解物浓度较高，上下层受到再悬浮作用混合后，使得该处称为CDOM吸收系数的高值区域*Chen* *nike*，\n",
    "\n",
    "\n"
   ]
  },
  {
   "cell_type": "code",
   "execution_count": null,
   "metadata": {
    "collapsed": true
   },
   "outputs": [],
   "source": []
  }
 ],
 "metadata": {
  "kernelspec": {
   "display_name": "Python 3",
   "language": "python",
   "name": "python3"
  },
  "language_info": {
   "codemirror_mode": {
    "name": "ipython",
    "version": 3
   },
   "file_extension": ".py",
   "mimetype": "text/x-python",
   "name": "python",
   "nbconvert_exporter": "python",
   "pygments_lexer": "ipython3",
   "version": "3.4.2"
  }
 },
 "nbformat": 4,
 "nbformat_minor": 0
}
